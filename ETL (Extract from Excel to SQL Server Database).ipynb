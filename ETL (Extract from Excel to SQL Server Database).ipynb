{
 "cells": [
  {
   "cell_type": "code",
   "execution_count": 1,
   "id": "186c55d1",
   "metadata": {},
   "outputs": [],
   "source": [
    "import pandas as pd\n",
    "import pyodbc"
   ]
  },
  {
   "cell_type": "code",
   "execution_count": 30,
   "id": "ff8293df",
   "metadata": {},
   "outputs": [
    {
     "name": "stdout",
     "output_type": "stream",
     "text": [
      "Successfully extracted 22411 rows from Excel.\n",
      "Successfully loaded 21879 rows into the Incidents table.\n"
     ]
    }
   ],
   "source": [
    "def extract_data_from_excel(file_path, sheet_name=0):\n",
    "    \"\"\"\n",
    "    Extract data from an Excel file.\n",
    "    Args:\n",
    "        file_path (str): Path to the Excel file.\n",
    "        sheet_name (str/int): Sheet name or index to extract from (default: first sheet).\n",
    "    Returns:\n",
    "        DataFrame: The extracted data as a pandas DataFrame.\n",
    "    \"\"\"\n",
    "    try:\n",
    "        df = pd.read_excel(file_path, sheet_name=sheet_name, engine='openpyxl')\n",
    "        print(f\"Successfully extracted {len(df)} rows from Excel.\")\n",
    "        return df\n",
    "    except Exception as e:\n",
    "        print(f\"Error reading Excel file: {e}\")\n",
    "        return None\n",
    "\n",
    "# Step 2: Transform - Data Cleaning and Preparation \n",
    "def transform_data(df):\n",
    "    \"\"\"\n",
    "    Apply transformations to the DataFrame if needed.\n",
    "    Args:\n",
    "        df (DataFrame): DataFrame to transform.\n",
    "    Returns:\n",
    "        DataFrame: Transformed DataFrame.\n",
    "    \"\"\"\n",
    "    df_cleaned = df.dropna()  \n",
    "    return df_cleaned\n",
    "\n",
    "def load_data_to_sqlserver(df, server, database, table_name):\n",
    "    \"\"\"\n",
    "    Load DataFrame into SQL Server.\n",
    "    Args:\n",
    "        df (DataFrame): DataFrame to load into the database.\n",
    "        server (str): SQL Server name.\n",
    "        database (str): Database name.\n",
    "        table_name (str): Target table name in the database.\n",
    "    \"\"\"\n",
    "    try:\n",
    "        conn_str = (\n",
    "    r'driver={SQL Server};'\n",
    "    r'server=(local);'\n",
    "    r'database=Traffic;'\n",
    "    r'trusted_connection=yes;'\n",
    "    )\n",
    "        conn = pyodbc.connect(conn_str)\n",
    "        cursor = conn.cursor()\n",
    "\n",
    "        for index, row in df.iterrows():\n",
    "            columns = ', '.join(row.index)\n",
    "            values = ', '.join(['?'] * len(row))\n",
    "            sql = f\"INSERT INTO {table_name} ({columns}) VALUES ({values})\"\n",
    "            cursor.execute(sql, tuple(row))\n",
    "        \n",
    "        conn.commit()  \n",
    "        print(f\"Successfully loaded {len(df)} rows into the {table_name} table.\")\n",
    "    except Exception as e:\n",
    "        print(f\"Error loading data to SQL Server: {e}\")\n",
    "    finally:\n",
    "        cursor.close()\n",
    "        conn.close()\n",
    "\n",
    "def etl_process(file_path, sheet_name, server, database, table_name):\n",
    "    \"\"\"\n",
    "    Full ETL pipeline: Extract data from Excel, transform it, and load into SQL Server.\n",
    "    \"\"\"\n",
    "    df = extract_data_from_excel(file_path, sheet_name)\n",
    "    \n",
    "    if df is not None:\n",
    "        df_transformed = transform_data(df)\n",
    "        \n",
    "        load_data_to_sqlserver(df_transformed, server, database, table_name)\n",
    "    else:\n",
    "        print(\"ETL process failed during extraction.\")\n",
    "\n",
    "\n",
    "file_path = r'C:path\\sheet.xlsx'  \n",
    "sheet_name = 0  \n",
    "server = r'ServerName'  \n",
    "database = 'DatabaseName'\n",
    "table_name = 'TabelName'\n",
    "\n",
    "etl_process(file_path, sheet_name, server, database, table_name)\n"
   ]
  },
  {
   "cell_type": "code",
   "execution_count": null,
   "id": "2ace2157",
   "metadata": {},
   "outputs": [],
   "source": []
  }
 ],
 "metadata": {
  "kernelspec": {
   "display_name": "Python 3 (ipykernel)",
   "language": "python",
   "name": "python3"
  },
  "language_info": {
   "codemirror_mode": {
    "name": "ipython",
    "version": 3
   },
   "file_extension": ".py",
   "mimetype": "text/x-python",
   "name": "python",
   "nbconvert_exporter": "python",
   "pygments_lexer": "ipython3",
   "version": "3.11.5"
  }
 },
 "nbformat": 4,
 "nbformat_minor": 5
}
