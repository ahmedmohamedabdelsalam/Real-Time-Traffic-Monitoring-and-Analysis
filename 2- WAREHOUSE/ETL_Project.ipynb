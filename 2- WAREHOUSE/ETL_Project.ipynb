{
 "cells": [
  {
   "cell_type": "code",
   "execution_count": 1,
   "id": "a0175c18",
   "metadata": {},
   "outputs": [],
   "source": [
    "import pyodbc\n",
    "import pandas as pd"
   ]
  },
  {
   "cell_type": "markdown",
   "id": "a7da19fa",
   "metadata": {},
   "source": [
    "# Extract data from our database"
   ]
  },
  {
   "cell_type": "code",
   "execution_count": 2,
   "id": "70cf0883",
   "metadata": {},
   "outputs": [
    {
     "name": "stdout",
     "output_type": "stream",
     "text": [
      "Data extracted successfully!\n"
     ]
    },
    {
     "name": "stderr",
     "output_type": "stream",
     "text": [
      "C:\\Users\\TBARK\\AppData\\Local\\Temp\\ipykernel_19972\\2430812330.py:13: UserWarning: pandas only supports SQLAlchemy connectable (engine/connection) or database string URI or sqlite3 DBAPI2 connection. Other DBAPI2 objects are not tested. Please consider using SQLAlchemy.\n",
      "  dt = pd.read_sql(query, conn)\n"
     ]
    }
   ],
   "source": [
    "server = 'DESKTOP-1L8NVH2'\n",
    "database = 'Traffic'\n",
    "username = 'DESKTOP-1L8NVH2\\TABARK'\n",
    "conn = pyodbc.connect(\n",
    "    r'DRIVER={SQL Server};'\n",
    "    r'SERVER=(local);'\n",
    "    r'DATABASE=Traffic;'\n",
    "    r'trusted_connection=yes;'\n",
    "\n",
    ")\n",
    "\n",
    "query = 'SELECT * FROM Traffic_Sensors'\n",
    "dt = pd.read_sql(query, conn)\n",
    "\n",
    "conn.close()\n",
    "\n",
    "print(\"Data extracted successfully!\")\n"
   ]
  },
  {
   "cell_type": "markdown",
   "id": "e1bb981b",
   "metadata": {},
   "source": [
    "# Open connetion with the warehouse"
   ]
  },
  {
   "cell_type": "code",
   "execution_count": 3,
   "id": "dd16b126",
   "metadata": {},
   "outputs": [],
   "source": [
    "warehouse_conn = pyodbc.connect(\n",
    "    'DRIVER={SQL Server};'\n",
    "    'SERVER=depiserverp.database.windows.net;'\n",
    "    'DATABASE=Traffic;'\n",
    "    'UID=Haitham;'\n",
    "    'PWD=12345Mm#'\n",
    ")\n",
    "\n"
   ]
  },
  {
   "cell_type": "markdown",
   "id": "0edd748e",
   "metadata": {},
   "source": [
    "# Load into the warehouse"
   ]
  },
  {
   "cell_type": "code",
   "execution_count": 4,
   "id": "2dfdc824",
   "metadata": {},
   "outputs": [
    {
     "name": "stdout",
     "output_type": "stream",
     "text": [
      "Data loaded into the warehouse successfully!\n"
     ]
    }
   ],
   "source": [
    "\n",
    "for index, row in dt.iterrows():\n",
    "    cursor = warehouse_conn.cursor()\n",
    "    cursor.execute(\"\"\"\n",
    "        INSERT INTO Traffic_Sensors (\"SensorID\", \"RoadwayID\", \"City\",\"SensorType\",\"Status\")\n",
    "        VALUES (?, ?, ?,?,?)\n",
    "    \"\"\", row[\"SensorID\"], row[\"RoadwayID\"], row[\"City\"],row[\"SensorType\"] , row[\"Status\"])\n",
    "    \n",
    "    warehouse_conn.commit()\n",
    "\n",
    "warehouse_conn.close()\n",
    "\n",
    "print(\"Data loaded into the warehouse successfully!\")\n"
   ]
  },
  {
   "cell_type": "code",
   "execution_count": null,
   "id": "664a4704",
   "metadata": {},
   "outputs": [],
   "source": []
  }
 ],
 "metadata": {
  "kernelspec": {
   "display_name": "Python 3 (ipykernel)",
   "language": "python",
   "name": "python3"
  },
  "language_info": {
   "codemirror_mode": {
    "name": "ipython",
    "version": 3
   },
   "file_extension": ".py",
   "mimetype": "text/x-python",
   "name": "python",
   "nbconvert_exporter": "python",
   "pygments_lexer": "ipython3",
   "version": "3.11.5"
  }
 },
 "nbformat": 4,
 "nbformat_minor": 5
}
