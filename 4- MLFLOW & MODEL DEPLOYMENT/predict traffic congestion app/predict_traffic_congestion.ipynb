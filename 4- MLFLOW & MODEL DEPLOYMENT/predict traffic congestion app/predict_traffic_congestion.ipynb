{
 "cells": [
  {
   "cell_type": "code",
   "execution_count": 4,
   "id": "17dc4408-098e-4b76-97d7-1cbdd8621352",
   "metadata": {},
   "outputs": [],
   "source": [
    "import pandas as pd\n",
    "import matplotlib.pyplot as plt\n",
    "from sklearn.model_selection import train_test_split\n",
    "from sklearn.ensemble import RandomForestClassifier\n",
    "from sklearn.metrics import accuracy_score, confusion_matrix, classification_report\n",
    "import joblib"
   ]
  },
  {
   "cell_type": "code",
   "execution_count": 5,
   "id": "d05cdad9-48b2-4420-9f51-2f6e679bf215",
   "metadata": {},
   "outputs": [],
   "source": [
    "# Load the dataset\n",
    "incidents_df =pd.read_csv(\"updated_incidents.csv\")"
   ]
  },
  {
   "cell_type": "code",
   "execution_count": 6,
   "id": "4e8ef8f0-3e40-4f51-b845-c18869176454",
   "metadata": {},
   "outputs": [
    {
     "data": {
      "text/plain": [
       "Index(['LightingCondition', 'WeatherCondition', 'SurfaceCondition',\n",
       "       'RoadCharacteristics', 'PrimaryFactor', 'TrafficIncidentSpeed',\n",
       "       'congestion', 'predicted_congestion'],\n",
       "      dtype='object')"
      ]
     },
     "execution_count": 6,
     "metadata": {},
     "output_type": "execute_result"
    }
   ],
   "source": [
    "incidents_df.columns"
   ]
  },
  {
   "cell_type": "code",
   "execution_count": 7,
   "id": "ccc21180-6bf8-4086-8c19-88f49ff93a19",
   "metadata": {},
   "outputs": [
    {
     "data": {
      "text/plain": [
       "' \\n# Feature value-specific weights based on their likelihood of causing congestion\\n\\nvalue_weights = {\\n    \\'LightingCondition\\': {\\n        \\'DAYLIGHT\\': 0.1,       # Lower chance of congestion in daylight\\n        \\'DARK\\': 0.8,           # Higher chance of congestion in darkness\\n        \\'DARK (LIGHTED)\\': 0.6, # Slightly lower chance if the area is lighted\\n        \\'DAWN/DUSK\\': 0.4       # Medium chance at dawn or dusk\\n    },\\n    \\'WeatherCondition\\': {\\n        \\'CLEAR\\': 0.1,          # Clear weather, low congestion likelihood\\n        \\'RAIN\\': 0.7,           # Rain increases congestion likelihood\\n        \\'CLOUDY\\': 0.3,         # Cloudy but no precipitation, moderate chance\\n        \\'SNOW\\': 0.9,           # Snow highly increases congestion\\n        \\'SLEET/HAIL/FREEZING\\': 0.8, # Hazardous weather, high congestion chance\\n        \\'BLOWING SAND/SOIL/SNOW\\': 0.6,\\n        \\'BLOWING\\': 0.5,\\n        \\'FOG/SMOKE\\': 0.7,\\n        \\'FOG/SMOKE/SMOG\\': 0.8  # Poor visibility increases congestion likelihood\\n    },\\n    \\'SurfaceCondition\\': {\\n        \\'DRY\\': 0.1,            # Dry surface, low chance of congestion\\n        \\'WET\\': 0.6,            # Wet surface increases congestion likelihood\\n        \\'SNOW/SLUSH\\': 0.9,     # Snowy or slushy surface increases congestion likelihood\\n        \\'ICE\\': 0.95,           # Icy roads are very likely to cause congestion\\n        \\'MUDDY\\': 0.7,          # Muddy surfaces increase the chance\\n        \\'WATER (STANDING OR MOVING)\\': 0.8 # Standing water or flooding causes congestion\\n    },\\n    \\'RoadCharacteristics\\': {\\n        \\'NON-ROADWAY CRASH\\': 0.2,    # Off-road incidents are less likely to cause congestion\\n        \\'STRAIGHT/HILLCREST\\': 0.4,   # Normal road conditions, medium chance\\n        \\'CURVE/HILLCREST\\': 0.8       # Curves or hillcrests increase congestion likelihood\\n    },\\n    \\'TrafficIncidentSpeed\\': {\\n        \\'low_speed_threshold\\': 30,   # Speeds below 30 considered congested\\n        \\'high_weight\\': 1.0,          # Full weight for very low speeds\\n        \\'low_weight\\': 0.0            # No congestion likelihood for higher speeds\\n    }\\n}\\n\\n# Function to calculate congestion score based on specific feature value weights\\ndef congestion_score(row):\\n    score = 0\\n    \\n    # Add weights for each feature based on their values\\n    score += value_weights[\\'LightingCondition\\'].get(row[\\'LightingCondition\\'], 0)\\n    score += value_weights[\\'WeatherCondition\\'].get(row[\\'WeatherCondition\\'], 0)\\n    score += value_weights[\\'SurfaceCondition\\'].get(row[\\'SurfaceCondition\\'], 0)\\n    score += value_weights[\\'RoadCharacteristics\\'].get(row[\\'RoadCharacteristics\\'], 0)\\n    \\n    # Calculate congestion likelihood based on speed\\n    if row[\\'TrafficIncidentSpeed\\'] < value_weights[\\'TrafficIncidentSpeed\\'][\\'low_speed_threshold\\']:\\n        score += value_weights[\\'TrafficIncidentSpeed\\'][\\'high_weight\\']  # Congestion if speed is below the threshold\\n    else:\\n        score += value_weights[\\'TrafficIncidentSpeed\\'][\\'low_weight\\']   # No congestion if speed is above the threshold\\n\\n    return score\\n\\n# Apply the congestion rule to calculate a congestion score for each row in incidents_df\\nincidents_df[\\'congestion_score\\'] = incidents_df.apply(congestion_score, axis=1)\\n\\n# Assume congestion score greater than 2.0 indicates congestion (adjust threshold as needed)\\nincidents_df[\\'congestion\\'] = incidents_df[\\'congestion_score\\'].apply(lambda x: 1 if x > 2.0 else 0)\\n\\n# Optionally, drop the congestion score column\\nincidents_df.drop(columns=[\\'congestion_score\\'], inplace=True)\\n\\n# Save the updated DataFrame to a CSV file named \\'updated_incidents.csv\\'\\nincidents_df.to_csv(\\'updated_incidents.csv\\', index=False)\\n\\nprint(\"The file \\'updated_incidents.csv\\' has been saved with the congestion column.\")\\n'"
      ]
     },
     "execution_count": 7,
     "metadata": {},
     "output_type": "execute_result"
    }
   ],
   "source": [
    "\"\"\" \n",
    "# Feature value-specific weights based on their likelihood of causing congestion\n",
    "\n",
    "value_weights = {\n",
    "    'LightingCondition': {\n",
    "        'DAYLIGHT': 0.1,       # Lower chance of congestion in daylight\n",
    "        'DARK': 0.8,           # Higher chance of congestion in darkness\n",
    "        'DARK (LIGHTED)': 0.6, # Slightly lower chance if the area is lighted\n",
    "        'DAWN/DUSK': 0.4       # Medium chance at dawn or dusk\n",
    "    },\n",
    "    'WeatherCondition': {\n",
    "        'CLEAR': 0.1,          # Clear weather, low congestion likelihood\n",
    "        'RAIN': 0.7,           # Rain increases congestion likelihood\n",
    "        'CLOUDY': 0.3,         # Cloudy but no precipitation, moderate chance\n",
    "        'SNOW': 0.9,           # Snow highly increases congestion\n",
    "        'SLEET/HAIL/FREEZING': 0.8, # Hazardous weather, high congestion chance\n",
    "        'BLOWING SAND/SOIL/SNOW': 0.6,\n",
    "        'BLOWING': 0.5,\n",
    "        'FOG/SMOKE': 0.7,\n",
    "        'FOG/SMOKE/SMOG': 0.8  # Poor visibility increases congestion likelihood\n",
    "    },\n",
    "    'SurfaceCondition': {\n",
    "        'DRY': 0.1,            # Dry surface, low chance of congestion\n",
    "        'WET': 0.6,            # Wet surface increases congestion likelihood\n",
    "        'SNOW/SLUSH': 0.9,     # Snowy or slushy surface increases congestion likelihood\n",
    "        'ICE': 0.95,           # Icy roads are very likely to cause congestion\n",
    "        'MUDDY': 0.7,          # Muddy surfaces increase the chance\n",
    "        'WATER (STANDING OR MOVING)': 0.8 # Standing water or flooding causes congestion\n",
    "    },\n",
    "    'RoadCharacteristics': {\n",
    "        'NON-ROADWAY CRASH': 0.2,    # Off-road incidents are less likely to cause congestion\n",
    "        'STRAIGHT/HILLCREST': 0.4,   # Normal road conditions, medium chance\n",
    "        'CURVE/HILLCREST': 0.8       # Curves or hillcrests increase congestion likelihood\n",
    "    },\n",
    "    'TrafficIncidentSpeed': {\n",
    "        'low_speed_threshold': 30,   # Speeds below 30 considered congested\n",
    "        'high_weight': 1.0,          # Full weight for very low speeds\n",
    "        'low_weight': 0.0            # No congestion likelihood for higher speeds\n",
    "    }\n",
    "}\n",
    "\n",
    "# Function to calculate congestion score based on specific feature value weights\n",
    "def congestion_score(row):\n",
    "    score = 0\n",
    "    \n",
    "    # Add weights for each feature based on their values\n",
    "    score += value_weights['LightingCondition'].get(row['LightingCondition'], 0)\n",
    "    score += value_weights['WeatherCondition'].get(row['WeatherCondition'], 0)\n",
    "    score += value_weights['SurfaceCondition'].get(row['SurfaceCondition'], 0)\n",
    "    score += value_weights['RoadCharacteristics'].get(row['RoadCharacteristics'], 0)\n",
    "    \n",
    "    # Calculate congestion likelihood based on speed\n",
    "    if row['TrafficIncidentSpeed'] < value_weights['TrafficIncidentSpeed']['low_speed_threshold']:\n",
    "        score += value_weights['TrafficIncidentSpeed']['high_weight']  # Congestion if speed is below the threshold\n",
    "    else:\n",
    "        score += value_weights['TrafficIncidentSpeed']['low_weight']   # No congestion if speed is above the threshold\n",
    "\n",
    "    return score\n",
    "\n",
    "# Apply the congestion rule to calculate a congestion score for each row in incidents_df\n",
    "incidents_df['congestion_score'] = incidents_df.apply(congestion_score, axis=1)\n",
    "\n",
    "# Assume congestion score greater than 2.0 indicates congestion (adjust threshold as needed)\n",
    "incidents_df['congestion'] = incidents_df['congestion_score'].apply(lambda x: 1 if x > 2.0 else 0)\n",
    "\n",
    "# Optionally, drop the congestion score column\n",
    "incidents_df.drop(columns=['congestion_score'], inplace=True)\n",
    "\n",
    "# Save the updated DataFrame to a CSV file named 'updated_incidents.csv'\n",
    "incidents_df.to_csv('updated_incidents.csv', index=False)\n",
    "\n",
    "print(\"The file 'updated_incidents.csv' has been saved with the congestion column.\")\n",
    "\"\"\" \n"
   ]
  },
  {
   "cell_type": "code",
   "execution_count": 8,
   "id": "1f9f5039-d1a5-4afb-8924-94daaf2e72cf",
   "metadata": {},
   "outputs": [],
   "source": [
    "# Handle missing values\n",
    "incidents_df.dropna(inplace=True)"
   ]
  },
  {
   "cell_type": "code",
   "execution_count": 9,
   "id": "7ed3a153-6c0b-4a86-a772-6a114c120160",
   "metadata": {},
   "outputs": [],
   "source": [
    "# Define your features and target\n",
    "target = 'congestion'\n",
    "features = ['LightingCondition', 'WeatherCondition', 'SurfaceCondition', 'RoadCharacteristics','TrafficIncidentSpeed']"
   ]
  },
  {
   "cell_type": "code",
   "execution_count": 10,
   "id": "0582dd11-2a9e-49fd-93d2-86343104a736",
   "metadata": {},
   "outputs": [],
   "source": [
    "# One-hot encode the categorical columns\n",
    "incidents_df_encoded = pd.get_dummies(incidents_df[features], drop_first=True)\n"
   ]
  },
  {
   "cell_type": "code",
   "execution_count": 11,
   "id": "f635b1bb-01e3-4ce9-b2bf-e122824a200c",
   "metadata": {},
   "outputs": [],
   "source": [
    "# Define the new features (after encoding) and target\n",
    "X = incidents_df_encoded\n",
    "y = incidents_df[target]"
   ]
  },
  {
   "cell_type": "code",
   "execution_count": 12,
   "id": "e9024de4-1da7-44fc-bd83-5d23c8e0f154",
   "metadata": {},
   "outputs": [],
   "source": [
    "# Split into training and test sets\n",
    "X_train, X_test, y_train, y_test = train_test_split(X, y, test_size=0.25, random_state=42)\n"
   ]
  },
  {
   "cell_type": "code",
   "execution_count": 13,
   "id": "7be53dfc-3c60-4e1f-b623-be3a0043c29a",
   "metadata": {},
   "outputs": [
    {
     "data": {
      "text/html": [
       "<style>#sk-container-id-1 {color: black;background-color: white;}#sk-container-id-1 pre{padding: 0;}#sk-container-id-1 div.sk-toggleable {background-color: white;}#sk-container-id-1 label.sk-toggleable__label {cursor: pointer;display: block;width: 100%;margin-bottom: 0;padding: 0.3em;box-sizing: border-box;text-align: center;}#sk-container-id-1 label.sk-toggleable__label-arrow:before {content: \"▸\";float: left;margin-right: 0.25em;color: #696969;}#sk-container-id-1 label.sk-toggleable__label-arrow:hover:before {color: black;}#sk-container-id-1 div.sk-estimator:hover label.sk-toggleable__label-arrow:before {color: black;}#sk-container-id-1 div.sk-toggleable__content {max-height: 0;max-width: 0;overflow: hidden;text-align: left;background-color: #f0f8ff;}#sk-container-id-1 div.sk-toggleable__content pre {margin: 0.2em;color: black;border-radius: 0.25em;background-color: #f0f8ff;}#sk-container-id-1 input.sk-toggleable__control:checked~div.sk-toggleable__content {max-height: 200px;max-width: 100%;overflow: auto;}#sk-container-id-1 input.sk-toggleable__control:checked~label.sk-toggleable__label-arrow:before {content: \"▾\";}#sk-container-id-1 div.sk-estimator input.sk-toggleable__control:checked~label.sk-toggleable__label {background-color: #d4ebff;}#sk-container-id-1 div.sk-label input.sk-toggleable__control:checked~label.sk-toggleable__label {background-color: #d4ebff;}#sk-container-id-1 input.sk-hidden--visually {border: 0;clip: rect(1px 1px 1px 1px);clip: rect(1px, 1px, 1px, 1px);height: 1px;margin: -1px;overflow: hidden;padding: 0;position: absolute;width: 1px;}#sk-container-id-1 div.sk-estimator {font-family: monospace;background-color: #f0f8ff;border: 1px dotted black;border-radius: 0.25em;box-sizing: border-box;margin-bottom: 0.5em;}#sk-container-id-1 div.sk-estimator:hover {background-color: #d4ebff;}#sk-container-id-1 div.sk-parallel-item::after {content: \"\";width: 100%;border-bottom: 1px solid gray;flex-grow: 1;}#sk-container-id-1 div.sk-label:hover label.sk-toggleable__label {background-color: #d4ebff;}#sk-container-id-1 div.sk-serial::before {content: \"\";position: absolute;border-left: 1px solid gray;box-sizing: border-box;top: 0;bottom: 0;left: 50%;z-index: 0;}#sk-container-id-1 div.sk-serial {display: flex;flex-direction: column;align-items: center;background-color: white;padding-right: 0.2em;padding-left: 0.2em;position: relative;}#sk-container-id-1 div.sk-item {position: relative;z-index: 1;}#sk-container-id-1 div.sk-parallel {display: flex;align-items: stretch;justify-content: center;background-color: white;position: relative;}#sk-container-id-1 div.sk-item::before, #sk-container-id-1 div.sk-parallel-item::before {content: \"\";position: absolute;border-left: 1px solid gray;box-sizing: border-box;top: 0;bottom: 0;left: 50%;z-index: -1;}#sk-container-id-1 div.sk-parallel-item {display: flex;flex-direction: column;z-index: 1;position: relative;background-color: white;}#sk-container-id-1 div.sk-parallel-item:first-child::after {align-self: flex-end;width: 50%;}#sk-container-id-1 div.sk-parallel-item:last-child::after {align-self: flex-start;width: 50%;}#sk-container-id-1 div.sk-parallel-item:only-child::after {width: 0;}#sk-container-id-1 div.sk-dashed-wrapped {border: 1px dashed gray;margin: 0 0.4em 0.5em 0.4em;box-sizing: border-box;padding-bottom: 0.4em;background-color: white;}#sk-container-id-1 div.sk-label label {font-family: monospace;font-weight: bold;display: inline-block;line-height: 1.2em;}#sk-container-id-1 div.sk-label-container {text-align: center;}#sk-container-id-1 div.sk-container {/* jupyter's `normalize.less` sets `[hidden] { display: none; }` but bootstrap.min.css set `[hidden] { display: none !important; }` so we also need the `!important` here to be able to override the default hidden behavior on the sphinx rendered scikit-learn.org. See: https://github.com/scikit-learn/scikit-learn/issues/21755 */display: inline-block !important;position: relative;}#sk-container-id-1 div.sk-text-repr-fallback {display: none;}</style><div id=\"sk-container-id-1\" class=\"sk-top-container\"><div class=\"sk-text-repr-fallback\"><pre>RandomForestClassifier(random_state=42)</pre><b>In a Jupyter environment, please rerun this cell to show the HTML representation or trust the notebook. <br />On GitHub, the HTML representation is unable to render, please try loading this page with nbviewer.org.</b></div><div class=\"sk-container\" hidden><div class=\"sk-item\"><div class=\"sk-estimator sk-toggleable\"><input class=\"sk-toggleable__control sk-hidden--visually\" id=\"sk-estimator-id-1\" type=\"checkbox\" checked><label for=\"sk-estimator-id-1\" class=\"sk-toggleable__label sk-toggleable__label-arrow\">RandomForestClassifier</label><div class=\"sk-toggleable__content\"><pre>RandomForestClassifier(random_state=42)</pre></div></div></div></div></div>"
      ],
      "text/plain": [
       "RandomForestClassifier(random_state=42)"
      ]
     },
     "execution_count": 13,
     "metadata": {},
     "output_type": "execute_result"
    }
   ],
   "source": [
    "# Train the Random Forest model\n",
    "model = RandomForestClassifier(n_estimators=100, random_state=42)\n",
    "model.fit(X_train, y_train)"
   ]
  },
  {
   "cell_type": "code",
   "execution_count": 14,
   "id": "440859d7-e6bb-453f-8f0f-c184a04311b4",
   "metadata": {},
   "outputs": [
    {
     "data": {
      "text/plain": [
       "['traffic_congestion_model_rf.pkl']"
      ]
     },
     "execution_count": 14,
     "metadata": {},
     "output_type": "execute_result"
    }
   ],
   "source": [
    "# Save the trained model\n",
    "joblib.dump(model, 'traffic_congestion_model_rf.pkl')\n"
   ]
  },
  {
   "cell_type": "code",
   "execution_count": 15,
   "id": "3fcfacab-8597-4447-8e48-c68dfa31e4ec",
   "metadata": {},
   "outputs": [
    {
     "name": "stdout",
     "output_type": "stream",
     "text": [
      "Model trained and saved successfully.\n"
     ]
    }
   ],
   "source": [
    "# Save the feature columns for later use\n",
    "feature_columns = X.columns.tolist()\n",
    "joblib.dump(feature_columns, 'feature_columns_rf.pkl')\n",
    "\n",
    "print(\"Model trained and saved successfully.\")"
   ]
  },
  {
   "cell_type": "code",
   "execution_count": 16,
   "id": "aa0fe152-a45a-4839-8fc9-0434c24ce279",
   "metadata": {},
   "outputs": [],
   "source": [
    "# Make predictions on the test set\n",
    "y_pred = model.predict(X_test)"
   ]
  },
  {
   "cell_type": "code",
   "execution_count": 17,
   "id": "c5a0baf1-56bb-45ef-b1be-c7566b215e0f",
   "metadata": {},
   "outputs": [
    {
     "name": "stdout",
     "output_type": "stream",
     "text": [
      "Accuracy: 0.99\n"
     ]
    }
   ],
   "source": [
    "# Calculate accuracy\n",
    "accuracy = accuracy_score(y_test, y_pred)\n",
    "print(f\"Accuracy: {accuracy:.2f}\")"
   ]
  },
  {
   "cell_type": "code",
   "execution_count": 18,
   "id": "6287d5c3-3ff4-43aa-9ccf-b9b63435ab45",
   "metadata": {},
   "outputs": [
    {
     "name": "stdout",
     "output_type": "stream",
     "text": [
      "Confusion Matrix:\n",
      "[[225   1]\n",
      " [  2  38]]\n",
      "Classification Report:\n",
      "              precision    recall  f1-score   support\n",
      "\n",
      "           0       0.99      1.00      0.99       226\n",
      "           1       0.97      0.95      0.96        40\n",
      "\n",
      "    accuracy                           0.99       266\n",
      "   macro avg       0.98      0.97      0.98       266\n",
      "weighted avg       0.99      0.99      0.99       266\n",
      "\n"
     ]
    }
   ],
   "source": [
    "# Calculate confusion matrix\n",
    "conf_matrix = confusion_matrix(y_test, y_pred)\n",
    "print(\"Confusion Matrix:\")\n",
    "print(conf_matrix)\n",
    "\n",
    "# Optional: Print classification report for more details\n",
    "print(\"Classification Report:\")\n",
    "print(classification_report(y_test, y_pred))"
   ]
  },
  {
   "cell_type": "code",
   "execution_count": 19,
   "id": "68b8f355-c6cd-46dc-8b0f-e4b99194dea1",
   "metadata": {},
   "outputs": [
    {
     "name": "stdout",
     "output_type": "stream",
     "text": [
      "Select Lighting Condition:\n"
     ]
    },
    {
     "name": "stdin",
     "output_type": "stream",
     "text": [
      "Options: ['DAYLIGHT', 'DARK (LIGHTED)', 'DARK', 'DAWN/DUSK']\n",
      "Your choice:  DARK\n"
     ]
    },
    {
     "name": "stdout",
     "output_type": "stream",
     "text": [
      "Select Weather Condition:\n"
     ]
    },
    {
     "name": "stdin",
     "output_type": "stream",
     "text": [
      "Options: ['CLEAR', 'CLOUDY', 'RAIN', 'FOG', 'SNOW', 'SLEET/HAIL/FREEZING', 'BLOWING SAND/SOIL/SNOW']\n",
      "Your choice:  RAIN\n"
     ]
    },
    {
     "name": "stdout",
     "output_type": "stream",
     "text": [
      "Select Surface Condition:\n"
     ]
    },
    {
     "name": "stdin",
     "output_type": "stream",
     "text": [
      "Options: ['DRY', 'WET', 'ICY', 'SNOWY', 'ICE', 'MUDDY', 'WATER (STANDING OR MOVING)']\n",
      "Your choice:  ICY\n"
     ]
    },
    {
     "name": "stdout",
     "output_type": "stream",
     "text": [
      "Select Road Characteristics:\n"
     ]
    },
    {
     "name": "stdin",
     "output_type": "stream",
     "text": [
      "Options: ['STRAIGHT/HILLCREST', 'CURVE', 'NON-ROADWAY CRASH']\n",
      "Your choice:  CURVE\n",
      "Enter Traffic Incident Speed (in mph):  30\n"
     ]
    },
    {
     "name": "stdout",
     "output_type": "stream",
     "text": [
      "The predicted traffic condition is: Congested\n"
     ]
    }
   ],
   "source": [
    "import pandas as pd\n",
    "import joblib\n",
    "import os\n",
    "\n",
    "# Load the model and feature columns\n",
    "model_path = 'traffic_congestion_model_rf.pkl'\n",
    "feature_columns_path = 'feature_columns_rf.pkl'\n",
    "\n",
    "# Check if the model file exists before loading\n",
    "if os.path.isfile(model_path):\n",
    "    model = joblib.load(model_path)\n",
    "else:\n",
    "    raise FileNotFoundError(f\"Model file not found at: {model_path}\")\n",
    "\n",
    "if os.path.isfile(feature_columns_path):\n",
    "    feature_columns = joblib.load(feature_columns_path)\n",
    "else:\n",
    "    raise FileNotFoundError(f\"Feature columns file not found at: {feature_columns_path}\")\n",
    "\n",
    "# Define options for each parameter\n",
    "lighting_conditions = ['DAYLIGHT', 'DARK (LIGHTED)', 'DARK', 'DAWN/DUSK']\n",
    "weather_conditions = ['CLEAR', 'CLOUDY', 'RAIN', 'FOG', 'SNOW', 'SLEET/HAIL/FREEZING', 'BLOWING SAND/SOIL/SNOW']\n",
    "surface_conditions = ['DRY', 'WET', 'ICY', 'SNOWY', 'ICE', 'MUDDY', 'WATER (STANDING OR MOVING)']\n",
    "road_characteristics = ['STRAIGHT/HILLCREST', 'CURVE', 'NON-ROADWAY CRASH']\n",
    "\n",
    "def get_user_input():\n",
    "    \"\"\"\n",
    "    Function to get user input for traffic conditions.\n",
    "    \"\"\"\n",
    "    print(\"Select Lighting Condition:\")\n",
    "    lighting_condition = input(f\"Options: {lighting_conditions}\\nYour choice: \")\n",
    "\n",
    "    print(\"Select Weather Condition:\")\n",
    "    weather_condition = input(f\"Options: {weather_conditions}\\nYour choice: \")\n",
    "\n",
    "    print(\"Select Surface Condition:\")\n",
    "    surface_condition = input(f\"Options: {surface_conditions}\\nYour choice: \")\n",
    "\n",
    "    print(\"Select Road Characteristics:\")\n",
    "    road_characteristic = input(f\"Options: {road_characteristics}\\nYour choice: \")\n",
    "\n",
    "    # Get TrafficIncidentSpeed as input\n",
    "    traffic_incident_speed = float(input(\"Enter Traffic Incident Speed (in mph): \"))\n",
    "\n",
    "    return {\n",
    "        'LightingCondition': lighting_condition,\n",
    "        'WeatherCondition': weather_condition,\n",
    "        'SurfaceCondition': surface_condition,\n",
    "        'RoadCharacteristics': road_characteristic,\n",
    "        'TrafficIncidentSpeed': traffic_incident_speed\n",
    "    }\n",
    "\n",
    "def predict_congestion(parameters):\n",
    "    \"\"\"\n",
    "    This function accepts traffic parameters and predicts whether the traffic is congested or clear.\n",
    "    \n",
    "    Parameters:\n",
    "    parameters (dict): A dictionary containing values for each feature\n",
    "    \n",
    "    Returns:\n",
    "    str: Prediction result ('Congested' or 'Clear')\n",
    "    \"\"\"\n",
    "    \n",
    "    # Convert the parameters into a DataFrame\n",
    "    new_data_df = pd.DataFrame([parameters])\n",
    "\n",
    "    # One-hot encode the new data to match the format used in training\n",
    "    new_data_encoded = pd.get_dummies(new_data_df)\n",
    "\n",
    "    # Reindex the data to match the model's features (filling missing columns with 0)\n",
    "    new_data_encoded = new_data_encoded.reindex(columns=feature_columns, fill_value=0)\n",
    "\n",
    "    # Make prediction using the saved model\n",
    "    prediction = model.predict(new_data_encoded)[0]\n",
    "\n",
    "    # Return the result as 'Congested' or 'Clear'\n",
    "    return 'Congested' if prediction == 1 else 'Clear'\n",
    "\n",
    "# Main program\n",
    "if __name__ == \"__main__\":\n",
    "    user_parameters = get_user_input()\n",
    "    result = predict_congestion(user_parameters)\n",
    "    print(f\"The predicted traffic condition is: {result}\")\n"
   ]
  },
  {
   "cell_type": "code",
   "execution_count": null,
   "id": "066bee11-3a9f-4a29-be5b-4167f9dd37ae",
   "metadata": {},
   "outputs": [],
   "source": []
  }
 ],
 "metadata": {
  "kernelspec": {
   "display_name": "Python 3 (ipykernel)",
   "language": "python",
   "name": "python3"
  },
  "language_info": {
   "codemirror_mode": {
    "name": "ipython",
    "version": 3
   },
   "file_extension": ".py",
   "mimetype": "text/x-python",
   "name": "python",
   "nbconvert_exporter": "python",
   "pygments_lexer": "ipython3",
   "version": "3.11.7"
  }
 },
 "nbformat": 4,
 "nbformat_minor": 5
}
